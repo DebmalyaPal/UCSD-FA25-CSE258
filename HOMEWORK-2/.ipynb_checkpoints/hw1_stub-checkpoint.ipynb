{
 "cells": [
  {
   "cell_type": "code",
   "execution_count": 1,
   "id": "07ad6b17",
   "metadata": {},
   "outputs": [],
   "source": [
    "from collections import defaultdict\n",
    "from sklearn import linear_model, metrics\n",
    "import numpy\n",
    "import math"
   ]
  },
  {
   "cell_type": "code",
   "execution_count": 2,
   "id": "ab71afc7-f078-4439-ba7d-5e348f44266c",
   "metadata": {},
   "outputs": [],
   "source": [
    "### Question 1"
   ]
  },
  {
   "cell_type": "code",
   "execution_count": 3,
   "id": "f164c2d8-828a-4af2-ba69-000fad8f1c54",
   "metadata": {},
   "outputs": [],
   "source": [
    "def getMaxLen(dataset):\n",
    "    # Find the longest review (number of characters)\n",
    "    return max([len(datum['review_text']) for datum in dataset])"
   ]
  },
  {
   "cell_type": "code",
   "execution_count": 4,
   "id": "9dc58396-c9f4-4a94-b62e-74e03064ca24",
   "metadata": {},
   "outputs": [],
   "source": [
    "def featureQ1(datum, maxLen):\n",
    "    # Feature vector for one data point\n",
    "    scaled_review_length = len(datum['review_text']) / maxLen\n",
    "    return [1, scaled_review_length]"
   ]
  },
  {
   "cell_type": "code",
   "execution_count": 5,
   "id": "f1ebbbb2-d5ae-405e-a02d-7307265387b8",
   "metadata": {},
   "outputs": [],
   "source": [
    "def Q1(dataset):\n",
    "    # Implement...\n",
    "\n",
    "    max_review_length = getMaxLen(dataset)\n",
    "    X, Y = [], []\n",
    "    for datum in dataset:\n",
    "        X.append(featureQ1(datum, max_review_length))\n",
    "        Y.append(datum['rating'])\n",
    "\n",
    "    X = numpy.array(X)\n",
    "    Y = numpy.array(Y)\n",
    "\n",
    "    theta = numpy.linalg.inv(X.T @ X) @ X.T @ Y\n",
    "\n",
    "    # Predictions\n",
    "    Y_pred = X @ theta\n",
    "\n",
    "    # Mean Squared Error\n",
    "    MSE = numpy.mean((Y_pred - Y) ** 2)\n",
    "\n",
    "    return theta, MSE"
   ]
  },
  {
   "cell_type": "code",
   "execution_count": 6,
   "id": "a8e3b548-53bc-47ad-bc45-d63fc4af95ce",
   "metadata": {},
   "outputs": [],
   "source": [
    "### Question 2"
   ]
  },
  {
   "cell_type": "code",
   "execution_count": 7,
   "id": "abce94cf-a7ca-4eef-b5fa-920349ee1003",
   "metadata": {},
   "outputs": [],
   "source": [
    "def featureQ2(datum, maxLen):\n",
    "    # Implement (should be 1, length feature, day feature, month feature)\n",
    "\n",
    "    vec = []\n",
    "\n",
    "    # 1. Bias term\n",
    "    vec.append(1)\n",
    "\n",
    "    # 2. Scaled review length\n",
    "    scaled_review_length = len(datum['review_text']) / maxLen\n",
    "    vec.append(scaled_review_length)\n",
    "\n",
    "    # 3. One Hot Encoding for Weekday - drop Monday\n",
    "    weekday = datum['parsed_date'].weekday()  # Monday=0, .., Sunday=6\n",
    "    for i in range(1, 6+1):\n",
    "        vec.append(1 if weekday==i else 0)\n",
    "\n",
    "    # 4. One Hot Encoding for Month - drop January\n",
    "    month = datum['parsed_date'].month  # January=1, ..., December=12\n",
    "    for i in range(2, 12+1):\n",
    "        vec.append(1 if month==i else 0)\n",
    "\n",
    "    return vec"
   ]
  },
  {
   "cell_type": "code",
   "execution_count": 8,
   "id": "8cb8f5cf",
   "metadata": {},
   "outputs": [],
   "source": [
    "def Q2(dataset):\n",
    "    # Implement (note MSE should be a *number*, not e.g. an array of length 1)\n",
    "\n",
    "    maxLen = getMaxLen(dataset)\n",
    "    X2, Y2 = [], []\n",
    "    for datum in dataset:\n",
    "        X2.append(featureQ2(datum, maxLen))\n",
    "        Y2.append(datum['rating'])\n",
    "    X2 = numpy.array(X2)\n",
    "    Y2 = numpy.array(Y2)\n",
    "\n",
    "    # Train One-Hot Encoded model\n",
    "    theta = numpy.linalg.inv(X2.T @ X2) @ X2.T @ Y2\n",
    "\n",
    "    # Predictions\n",
    "    Y_pred = X2 @ theta\n",
    "\n",
    "    # Mean Squared Error (as a scalar)\n",
    "    MSE2 = numpy.mean((Y_pred - Y2) ** 2)\n",
    "\n",
    "    return X2, Y2, MSE2"
   ]
  },
  {
   "cell_type": "code",
   "execution_count": 9,
   "id": "35d18540-6413-4459-8082-0f8cc1d3e276",
   "metadata": {},
   "outputs": [],
   "source": [
    "### Question 3"
   ]
  },
  {
   "cell_type": "code",
   "execution_count": 10,
   "id": "939c02d3-eb26-4e65-96a2-d55fc41d2209",
   "metadata": {},
   "outputs": [],
   "source": [
    "def featureQ3(datum, maxLen):\n",
    "    # Implement\n",
    "    scaled_len = len(datum['review_text']) / maxLen\n",
    "    weekday = datum['parsed_date'].weekday()  # 0 = Monday, .., 6 = Sunday\n",
    "    month = datum['parsed_date'].month        # 1 = January, .., 12 = December\n",
    "\n",
    "    # Q3a: raw values\n",
    "    raw_features = [1, scaled_len, weekday, month]\n",
    "\n",
    "    return raw_features"
   ]
  },
  {
   "cell_type": "code",
   "execution_count": 11,
   "id": "3efaacd2-6ac8-4a3c-8d32-60ad8f389917",
   "metadata": {},
   "outputs": [],
   "source": [
    "def Q3(dataset):\n",
    "    # Implement\n",
    "    maxLen = getMaxLen(dataset)\n",
    "    X3, Y3 = [], []\n",
    "    for datum in dataset:\n",
    "        X3.append(featureQ3(datum, maxLen))\n",
    "        Y3.append(datum['rating'])\n",
    "    X3 = numpy.array(X3)\n",
    "    Y3 = numpy.array(Y3)\n",
    "\n",
    "    # Train raw model\n",
    "    theta = numpy.linalg.inv(X3.T @ X3) @ X3.T @ Y3\n",
    "\n",
    "    # Predictions\n",
    "    Y_pred = X3 @ theta\n",
    "\n",
    "    # Mean Squared Error\n",
    "    MSE3 = numpy.mean((Y_pred - Y3) ** 2)\n",
    "    \n",
    "    return X3, Y3, MSE3"
   ]
  },
  {
   "cell_type": "code",
   "execution_count": 12,
   "id": "6d89e772-b1ad-46fc-aeb8-45a6df15fa5d",
   "metadata": {},
   "outputs": [],
   "source": [
    "### Question 4"
   ]
  },
  {
   "cell_type": "code",
   "execution_count": 13,
   "id": "d1029574-b4c4-4675-83ad-c20674a2428b",
   "metadata": {},
   "outputs": [],
   "source": [
    "def Q4(dataset):\n",
    "   # Implement\n",
    "    train_data = dataset[:len(dataset)//2]\n",
    "    test_data = dataset[len(dataset)//2:]\n",
    "\n",
    "    maxLen_train = getMaxLen(train_data)\n",
    "    maxLen_test = getMaxLen(test_data)\n",
    "\n",
    "    # CASE: one hot enconding\n",
    "    X2_train, Y2_train = [], []\n",
    "    for datum in train_data:\n",
    "        X2_train.append(featureQ2(datum, maxLen_train))\n",
    "        Y2_train.append(datum['rating'])\n",
    "    X2_train = numpy.array(X2_train)\n",
    "    Y2_train = numpy.array(Y2_train)\n",
    "\n",
    "    X2_test, Y2_test = [], []\n",
    "    for datum in test_data:\n",
    "        X2_test.append(featureQ2(datum, maxLen_test))\n",
    "        Y2_test.append(datum['rating'])\n",
    "    X2_test = numpy.array(X2_test)\n",
    "    Y2_test = numpy.array(Y2_test)\n",
    "\n",
    "    # Train One Hot Encoding model\n",
    "    # Linear regression: theta = (X^T X)^(-1) X^T y\n",
    "    theta2_train = numpy.linalg.inv(X2_train.T @ X2_train) @ X2_train.T @ Y2_train\n",
    "\n",
    "    # Predictions\n",
    "    Y2_pred_test = X2_test @ theta2_train\n",
    "\n",
    "    # Mean Squared Error (as a scalar)\n",
    "    test_mse2 = numpy.mean((Y2_pred_test - Y2_test) ** 2)\n",
    "\n",
    "    # CASE: No enconding\n",
    "    X3_train, Y3_train = [], []\n",
    "    for datum in train_data:\n",
    "        X3_train.append(featureQ3(datum, maxLen_train))\n",
    "        Y3_train.append(datum['rating'])\n",
    "    X3_train = numpy.array(X3_train)\n",
    "    Y3_train = numpy.array(Y3_train)\n",
    "\n",
    "    X3_test, Y3_test = [], []\n",
    "    for datum in test_data:\n",
    "        X3_test.append(featureQ3(datum, maxLen_test))\n",
    "        Y3_test.append(datum['rating'])\n",
    "    X3_test = numpy.array(X3_test)\n",
    "    Y3_test = numpy.array(Y3_test)\n",
    "\n",
    "    # Train raw (no encoding) model\n",
    "    # Linear regression: theta = (X^T X)^(-1) X^T y\n",
    "    theta3_train = numpy.linalg.inv(X3_train.T @ X3_train) @ X3_train.T @ Y3_train\n",
    "\n",
    "    # Predictions\n",
    "    Y3_pred_test = X3_test @ theta3_train\n",
    "\n",
    "    # Mean Squared Error (as a scalar)\n",
    "    test_mse3 = numpy.mean((Y3_pred_test - Y3_test) ** 2)\n",
    "\n",
    "    return test_mse2, test_mse3"
   ]
  },
  {
   "cell_type": "code",
   "execution_count": 14,
   "id": "3a38cc78-c502-4ad1-b2db-d8358c0caa3e",
   "metadata": {},
   "outputs": [],
   "source": [
    "### Question 5"
   ]
  },
  {
   "cell_type": "code",
   "execution_count": 15,
   "id": "4df2e6ea",
   "metadata": {},
   "outputs": [],
   "source": [
    "def featureQ5(datum):\n",
    "    # Implement\n",
    "    return [len(datum['review/text'])]"
   ]
  },
  {
   "cell_type": "code",
   "execution_count": 16,
   "id": "cabb75ec-826a-497e-b158-f5c340aea4d2",
   "metadata": {},
   "outputs": [],
   "source": [
    "def Q5(dataset, feat_func):\n",
    "    # Implement\n",
    "    \n",
    "    # Step 1: Extract features and labels\n",
    "    # Feature: review length\n",
    "    X = [feat_func(datum) for datum in dataset]\n",
    "    # Label: whether review score >= 4\n",
    "    y = [1 if datum['review/overall'] >= 4.0 else 0 for datum in dataset]\n",
    "\n",
    "    # Step 2: Initialize and fit the logistic regressor\n",
    "    model = linear_model.LogisticRegression(class_weight='balanced')\n",
    "    model.fit(X, y)\n",
    "\n",
    "    # Step 3: Predictions\n",
    "    y_pred = model.predict(X)\n",
    "\n",
    "    # Step 4: Calculate confusion matrix\n",
    "    TN, FP, FN, TP = metrics.confusion_matrix(y, y_pred).ravel()\n",
    "\n",
    "    # Step 5: Compute the Balanced Error Rate (BER)\n",
    "    BER = (FP / (FP + TN) + FN / (FN + TP)) / 2.0\n",
    "\n",
    "    return TP, TN, FP, FN, BER"
   ]
  },
  {
   "cell_type": "code",
   "execution_count": 17,
   "id": "a3c14955-d174-473b-bf2b-a2b98776685e",
   "metadata": {},
   "outputs": [],
   "source": [
    "### Question 6"
   ]
  },
  {
   "cell_type": "code",
   "execution_count": 18,
   "id": "2a71178c-589e-433c-8bdb-70c5e1510fce",
   "metadata": {},
   "outputs": [],
   "source": [
    "def Q6(dataset):\n",
    "    # Implement\n",
    "    \n",
    "    # Extract features and labels\n",
    "    # Feature: review length\n",
    "    X = [featureQ5(datum) for datum in dataset]\n",
    "    # Label: whether review score >= 4\n",
    "    y = [1 if datum['review/overall'] >= 4.0 else 0 for datum in dataset]\n",
    "\n",
    "    # Train the model\n",
    "    model = linear_model.LogisticRegression(class_weight='balanced')\n",
    "    model.fit(X, y)\n",
    "\n",
    "    # Calculate predicted probabilities and sort\n",
    "    probs = model.predict_proba(X)[:, 1]\n",
    "    sorted_indices = probs.argsort()[::-1]\n",
    "\n",
    "    # Calculate Precision@K for different K values\n",
    "    precisions = []\n",
    "    for K in [1, 100, 1000, 10000]:\n",
    "        top_K_indices = sorted_indices[:K]\n",
    "        correct = sum([y[i] for i in top_K_indices])\n",
    "        precision_at_K = correct / K\n",
    "        precisions.append(precision_at_K)\n",
    "\n",
    "    return precisions"
   ]
  },
  {
   "cell_type": "code",
   "execution_count": 19,
   "id": "e8291f55-cfa1-4979-bcaa-42a238e9a844",
   "metadata": {},
   "outputs": [],
   "source": [
    "### Question 7"
   ]
  },
  {
   "cell_type": "code",
   "execution_count": 20,
   "id": "96e16d5a",
   "metadata": {},
   "outputs": [],
   "source": [
    "def featureQ7(datum):\n",
    "    # Implement (any feature vector which improves performance over Q5)\n",
    "    review_length = len(datum['review/text'])\n",
    "    abv = datum['beer/ABV']\n",
    "    aroma = datum['review/aroma']\n",
    "    return [review_length, abv, aroma]"
   ]
  },
  {
   "cell_type": "code",
   "execution_count": null,
   "id": "024a628f",
   "metadata": {},
   "outputs": [],
   "source": []
  }
 ],
 "metadata": {
  "kernelspec": {
   "display_name": "Python 3 (ipykernel)",
   "language": "python",
   "name": "python3"
  },
  "language_info": {
   "codemirror_mode": {
    "name": "ipython",
    "version": 3
   },
   "file_extension": ".py",
   "mimetype": "text/x-python",
   "name": "python",
   "nbconvert_exporter": "python",
   "pygments_lexer": "ipython3",
   "version": "3.12.10"
  }
 },
 "nbformat": 4,
 "nbformat_minor": 5
}
