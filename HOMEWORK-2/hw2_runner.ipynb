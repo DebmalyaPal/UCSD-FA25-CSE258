{
 "cells": [
  {
   "cell_type": "code",
   "execution_count": 1,
   "id": "380b245a",
   "metadata": {},
   "outputs": [],
   "source": [
    "import gzip\n",
    "import json\n",
    "import dateutil.parser\n",
    "import random\n",
    "import numpy as np\n",
    "from collections import defaultdict"
   ]
  },
  {
   "cell_type": "code",
   "execution_count": 2,
   "id": "909e69dc",
   "metadata": {},
   "outputs": [],
   "source": [
    "import homework2"
   ]
  },
  {
   "cell_type": "code",
   "execution_count": 3,
   "id": "be7a74a6",
   "metadata": {},
   "outputs": [],
   "source": [
    "root = \"./datasets/\""
   ]
  },
  {
   "cell_type": "code",
   "execution_count": null,
   "id": "7f1e2bc0",
   "metadata": {},
   "outputs": [],
   "source": []
  },
  {
   "cell_type": "code",
   "execution_count": 4,
   "id": "eda21259",
   "metadata": {},
   "outputs": [],
   "source": [
    "def parseData(fname):\n",
    "    for l in open(fname):\n",
    "        yield eval(l)"
   ]
  },
  {
   "cell_type": "code",
   "execution_count": 5,
   "id": "738ac52b",
   "metadata": {},
   "outputs": [],
   "source": [
    "data = list(parseData(root + \"/beer_50000.json\"))"
   ]
  },
  {
   "cell_type": "code",
   "execution_count": 6,
   "id": "6a401fa8",
   "metadata": {},
   "outputs": [],
   "source": [
    "random.seed(0)\n",
    "random.shuffle(data)"
   ]
  },
  {
   "cell_type": "code",
   "execution_count": 7,
   "id": "d970266f",
   "metadata": {},
   "outputs": [],
   "source": [
    "dataTrain = data[:25000]\n",
    "dataValid = data[25000:37500]\n",
    "dataTest = data[37500:]"
   ]
  },
  {
   "cell_type": "code",
   "execution_count": null,
   "id": "4abc7603",
   "metadata": {},
   "outputs": [],
   "source": []
  },
  {
   "cell_type": "code",
   "execution_count": 8,
   "id": "8d9db165",
   "metadata": {},
   "outputs": [],
   "source": [
    "categoryCounts = defaultdict(int)\n",
    "for d in data:\n",
    "    categoryCounts[d['beer/style']] += 1"
   ]
  },
  {
   "cell_type": "code",
   "execution_count": 9,
   "id": "a293fe15",
   "metadata": {},
   "outputs": [],
   "source": [
    "categories = [c for c in categoryCounts if categoryCounts[c] > 1000]"
   ]
  },
  {
   "cell_type": "code",
   "execution_count": 10,
   "id": "ede8a527",
   "metadata": {},
   "outputs": [],
   "source": [
    "catID = dict(zip(list(categories),range(len(categories))))"
   ]
  },
  {
   "cell_type": "code",
   "execution_count": 11,
   "id": "cb5f1b39",
   "metadata": {},
   "outputs": [
    {
     "data": {
      "text/plain": [
       "{'American Porter': 0,\n",
       " 'Fruit / Vegetable Beer': 1,\n",
       " 'English Pale Ale': 2,\n",
       " 'Rauchbier': 3,\n",
       " 'American Pale Ale (APA)': 4,\n",
       " 'Scotch Ale / Wee Heavy': 5,\n",
       " 'American IPA': 6,\n",
       " 'Old Ale': 7,\n",
       " 'American Double / Imperial IPA': 8,\n",
       " 'American Double / Imperial Stout': 9,\n",
       " 'Czech Pilsener': 10,\n",
       " 'Rye Beer': 11,\n",
       " 'Russian Imperial Stout': 12}"
      ]
     },
     "execution_count": 11,
     "metadata": {},
     "output_type": "execute_result"
    }
   ],
   "source": [
    "catID"
   ]
  },
  {
   "cell_type": "code",
   "execution_count": null,
   "id": "ec49624c",
   "metadata": {},
   "outputs": [],
   "source": []
  },
  {
   "cell_type": "code",
   "execution_count": 12,
   "id": "aa2575f6",
   "metadata": {},
   "outputs": [],
   "source": [
    "def testQ1():\n",
    "    mod, validBER, testBER = homework2.Q1(catID, dataTrain, dataValid, dataTest)\n",
    "    return validBER, testBER"
   ]
  },
  {
   "cell_type": "code",
   "execution_count": 13,
   "id": "a69d2917",
   "metadata": {},
   "outputs": [
    {
     "data": {
      "text/plain": [
       "(np.float64(0.16130237168160533), np.float64(0.16078380246088317))"
      ]
     },
     "execution_count": 13,
     "metadata": {},
     "output_type": "execute_result"
    }
   ],
   "source": [
    "testQ1()"
   ]
  },
  {
   "cell_type": "code",
   "execution_count": 14,
   "id": "a927d3e2",
   "metadata": {},
   "outputs": [],
   "source": [
    "def testQ2():\n",
    "    mod, validBER, testBER = homework2.Q2(catID, dataTrain, dataValid, dataTest)\n",
    "    return validBER, testBER"
   ]
  },
  {
   "cell_type": "code",
   "execution_count": 15,
   "id": "06988d91",
   "metadata": {},
   "outputs": [
    {
     "data": {
      "text/plain": [
       "(np.float64(0.14955542095051438), np.float64(0.1504285600694365))"
      ]
     },
     "execution_count": 15,
     "metadata": {},
     "output_type": "execute_result"
    }
   ],
   "source": [
    "testQ2()"
   ]
  },
  {
   "cell_type": "code",
   "execution_count": 16,
   "id": "c06aaa0d",
   "metadata": {},
   "outputs": [],
   "source": [
    "def testQ3():\n",
    "    mod, validBER, testBER = homework2.Q3(catID, dataTrain, dataValid, dataTest)\n",
    "    return validBER, testBER"
   ]
  },
  {
   "cell_type": "code",
   "execution_count": 32,
   "id": "d1eaea88",
   "metadata": {},
   "outputs": [
    {
     "data": {
      "text/plain": [
       "(np.float64(0.14814935617142105), np.float64(0.14981452284202257))"
      ]
     },
     "execution_count": 32,
     "metadata": {},
     "output_type": "execute_result"
    }
   ],
   "source": [
    "testQ3()"
   ]
  },
  {
   "cell_type": "code",
   "execution_count": 18,
   "id": "8182c501",
   "metadata": {},
   "outputs": [],
   "source": [
    "def testQ4():\n",
    "    testBER_noCat, testBER_noReview, testBER_noLength = homework2.Q4(1, catID, dataTrain, dataValid, dataTest)\n",
    "    return testBER_noCat, testBER_noReview, testBER_noLength"
   ]
  },
  {
   "cell_type": "code",
   "execution_count": 33,
   "id": "70d4e5d7",
   "metadata": {},
   "outputs": [
    {
     "data": {
      "text/plain": [
       "(np.float64(0.333408575796558),\n",
       " np.float64(0.16096052587282522),\n",
       " np.float64(0.14898302643878575))"
      ]
     },
     "execution_count": 33,
     "metadata": {},
     "output_type": "execute_result"
    }
   ],
   "source": [
    "testQ4()"
   ]
  },
  {
   "cell_type": "code",
   "execution_count": null,
   "id": "f07e868f",
   "metadata": {},
   "outputs": [],
   "source": []
  },
  {
   "cell_type": "code",
   "execution_count": 20,
   "id": "f9a75852",
   "metadata": {},
   "outputs": [],
   "source": [
    "path = root + \"/amazon_reviews_us_Musical_Instruments_v1_00.tsv.gz\"\n",
    "f = gzip.open(path, 'rt', encoding=\"utf8\")\n",
    "\n",
    "header = f.readline()\n",
    "header = header.strip().split('\\t')"
   ]
  },
  {
   "cell_type": "code",
   "execution_count": null,
   "id": "13c9b07f",
   "metadata": {},
   "outputs": [],
   "source": []
  },
  {
   "cell_type": "code",
   "execution_count": 21,
   "id": "1183af53",
   "metadata": {},
   "outputs": [
    {
     "data": {
      "text/plain": [
       "['marketplace',\n",
       " 'customer_id',\n",
       " 'review_id',\n",
       " 'product_id',\n",
       " 'product_parent',\n",
       " 'product_title',\n",
       " 'product_category',\n",
       " 'star_rating',\n",
       " 'helpful_votes',\n",
       " 'total_votes',\n",
       " 'vine',\n",
       " 'verified_purchase',\n",
       " 'review_headline',\n",
       " 'review_body',\n",
       " 'review_date']"
      ]
     },
     "execution_count": 21,
     "metadata": {},
     "output_type": "execute_result"
    }
   ],
   "source": [
    "header"
   ]
  },
  {
   "cell_type": "code",
   "execution_count": 22,
   "id": "1deab570",
   "metadata": {},
   "outputs": [
    {
     "name": "stdout",
     "output_type": "stream",
     "text": [
      "Skipping duplicate user/item: ('46953315', 'B00QM3CNN6')\n",
      "Skipping duplicate user/item: ('31616428', 'B0026RB0G8')\n",
      "Skipping duplicate user/item: ('47240912', 'B008I653SC')\n",
      "Skipping duplicate user/item: ('14503091', 'B003FRMRC4')\n",
      "Skipping duplicate user/item: ('38538360', 'B00HVLUR86')\n",
      "Skipping duplicate user/item: ('43448024', 'B00HVLUR86')\n",
      "Skipping duplicate user/item: ('51525270', 'B00HVLUR86')\n",
      "Skipping duplicate user/item: ('20652160', 'B004OU2IQG')\n",
      "Skipping duplicate user/item: ('10964440', 'B00HVLUR86')\n",
      "Skipping duplicate user/item: ('20043677', 'B00HVLUR86')\n",
      "Skipping duplicate user/item: ('44796499', 'B00HVLUSGM')\n",
      "Skipping duplicate user/item: ('29066899', 'B0002CZSYO')\n",
      "Skipping duplicate user/item: ('10385056', 'B004OU2IQG')\n",
      "Skipping duplicate user/item: ('1658551', 'B00HVLURL8')\n",
      "Skipping duplicate user/item: ('907433', 'B00N9Q2E5G')\n",
      "Skipping duplicate user/item: ('39412969', 'B00HVLUR86')\n",
      "Skipping duplicate user/item: ('4901688', 'B00HVLUR86')\n",
      "Skipping duplicate user/item: ('23458093', 'B005CX4GLE')\n",
      "Skipping duplicate user/item: ('38515272', 'B00HVLUSGM')\n",
      "Skipping duplicate user/item: ('11577442', 'B004OU2IQG')\n",
      "Skipping duplicate user/item: ('33123229', 'B0002CZSZ8')\n",
      "Skipping duplicate user/item: ('1473221', 'B00HVLURL8')\n",
      "Skipping duplicate user/item: ('1473221', 'B004OU2IQG')\n",
      "Skipping duplicate user/item: ('1658551', 'B004OU2IQG')\n",
      "Skipping duplicate user/item: ('43576831', 'B00MUFJXTM')\n",
      "Skipping duplicate user/item: ('31983516', 'B00HVLUR86')\n",
      "Skipping duplicate user/item: ('14312454', 'B004OU2IQG')\n",
      "Skipping duplicate user/item: ('30290991', 'B004OU2IQG')\n",
      "Skipping duplicate user/item: ('2714455', 'B003VWKPHC')\n",
      "Skipping duplicate user/item: ('19347026', 'B00B9QONQQ')\n",
      "Skipping duplicate user/item: ('44303814', 'B00HVLUSGM')\n",
      "Skipping duplicate user/item: ('7586067', 'B0002D0A82')\n",
      "Skipping duplicate user/item: ('45224935', 'B00NICSAVI')\n",
      "Skipping duplicate user/item: ('15394678', 'B00LTZTPJM')\n",
      "Skipping duplicate user/item: ('13593540', 'B0002D0CK8')\n",
      "Skipping duplicate user/item: ('4032226', 'B000BKJPQY')\n",
      "Skipping duplicate user/item: ('22561437', 'B003VWKPHC')\n",
      "Skipping duplicate user/item: ('14945376', 'B00HVLUSGM')\n",
      "Skipping duplicate user/item: ('12738423', 'B000068O3T')\n",
      "Skipping duplicate user/item: ('7081001', 'B0098VHUEG')\n",
      "Skipping duplicate user/item: ('41554871', 'B005VLWHP4')\n",
      "Skipping duplicate user/item: ('25881037', 'B003OG9NH8')\n",
      "Skipping duplicate user/item: ('52621298', 'B000A6ASSS')\n",
      "Skipping duplicate user/item: ('10125876', 'B008U1P9QG')\n",
      "Skipping duplicate user/item: ('50181160', 'B0002E3FBA')\n",
      "Skipping duplicate user/item: ('44622391', 'B003OT9N48')\n",
      "Skipping duplicate user/item: ('48408803', 'B00HVLUR86')\n",
      "Skipping duplicate user/item: ('1976244', 'B0010CP5DY')\n",
      "Skipping duplicate user/item: ('1753779', 'B0002CZVU0')\n",
      "Skipping duplicate user/item: ('17036027', 'B00267QD8S')\n",
      "Skipping duplicate user/item: ('7472528', 'B00646MZHK')\n",
      "Skipping duplicate user/item: ('26003848', 'B00CICPN0K')\n",
      "Skipping duplicate user/item: ('27819775', 'B003BNZHSI')\n",
      "Skipping duplicate user/item: ('13011180', 'B006RJRBY6')\n",
      "Skipping duplicate user/item: ('50079991', 'B0002F5544')\n",
      "Skipping duplicate user/item: ('15398248', 'B0032BYCWG')\n",
      "Skipping duplicate user/item: ('32786226', 'B003FRMRC4')\n",
      "Skipping duplicate user/item: ('47300481', 'B004Z17008')\n",
      "Skipping duplicate user/item: ('36336335', 'B002MAKE98')\n",
      "Skipping duplicate user/item: ('25504145', 'B005CX4GLE')\n",
      "Skipping duplicate user/item: ('25189829', 'B003VWJ2K8')\n",
      "Skipping duplicate user/item: ('16333305', 'B002MAMCIE')\n",
      "Skipping duplicate user/item: ('5095315', 'B003VWKPHC')\n",
      "Skipping duplicate user/item: ('19017131', 'B0002D0A7S')\n",
      "Skipping duplicate user/item: ('11330459', 'B003VWJ2K8')\n",
      "Skipping duplicate user/item: ('48076283', 'B0002D09Q0')\n",
      "Skipping duplicate user/item: ('31588426', 'B005NACC6M')\n",
      "Skipping duplicate user/item: ('35281019', 'B00646MZHK')\n",
      "Skipping duplicate user/item: ('9878929', 'B0057OIUW4')\n",
      "Skipping duplicate user/item: ('48005643', 'B003QGPCTE')\n",
      "Skipping duplicate user/item: ('49974033', 'B0002FOBJY')\n",
      "Skipping duplicate user/item: ('13906387', 'B005NACC6M')\n",
      "Skipping duplicate user/item: ('12746123', 'B005NACC6M')\n",
      "Skipping duplicate user/item: ('14064980', 'B00ALR3XH4')\n",
      "Skipping duplicate user/item: ('20797342', 'B00ATP5KF6')\n",
      "Skipping duplicate user/item: ('32368781', 'B001BM4PTI')\n",
      "Skipping duplicate user/item: ('21145462', 'B003VWJ2K8')\n",
      "Skipping duplicate user/item: ('16420980', 'B007I0EGGO')\n",
      "Skipping duplicate user/item: ('45432948', 'B003PEU5SK')\n",
      "Skipping duplicate user/item: ('13174036', 'B006RJRBY6')\n",
      "Skipping duplicate user/item: ('14812308', 'B0029PONJS')\n",
      "Skipping duplicate user/item: ('52428106', 'B000Y010WS')\n",
      "Skipping duplicate user/item: ('52896636', 'B003AYLJXU')\n",
      "Skipping duplicate user/item: ('23539660', 'B0002E518U')\n",
      "Skipping duplicate user/item: ('25740618', 'B004ZL3AEI')\n",
      "Skipping duplicate user/item: ('25740618', 'B0006SE59S')\n",
      "Skipping duplicate user/item: ('12922606', 'B000065BP9')\n",
      "Skipping duplicate user/item: ('24873662', 'B0002M6AC8')\n",
      "Skipping duplicate user/item: ('52256186', 'B0002GY7KQ')\n",
      "Skipping duplicate user/item: ('18342171', 'B0002H0OCA')\n",
      "Skipping duplicate user/item: ('49600435', 'B0002F7JPC')\n",
      "Skipping duplicate user/item: ('52390258', 'B0006HY5PI')\n",
      "Skipping duplicate user/item: ('17281475', 'B00008MIGG')\n",
      "Skipping duplicate user/item: ('32535778', 'B0000DH7IT')\n",
      "Skipping duplicate user/item: ('29480926', 'B0000TFYK2')\n",
      "Skipping duplicate user/item: ('26926367', 'B00007CWI7')\n",
      "Skipping duplicate user/item: ('26926367', 'B00007CWI7')\n",
      "Skipping duplicate user/item: ('30727166', 'B00002MZ8M')\n",
      "Skipping duplicate user/item: ('50944807', 'B00006AMBW')\n",
      "Skipping duplicate user/item: ('50944807', 'B00006AMBW')\n",
      "Skipping duplicate user/item: ('50072613', 'B00005BMSN')\n",
      "Skipping duplicate user/item: ('36831311', 'B00005OWCU')\n",
      "Skipping duplicate user/item: ('33924930', 'B00005K9CI')\n",
      "Skipping duplicate user/item: ('35957274', 'B00005BWSN')\n",
      "Skipping duplicate user/item: ('52056770', 'B000062UI4')\n",
      "Skipping duplicate user/item: ('40818529', 'B00006L57W')\n",
      "Skipping duplicate user/item: ('38182161', 'B00005S8KM')\n",
      "Skipping duplicate user/item: ('39289364', 'B00004SY4H')\n",
      "Skipping duplicate user/item: ('50683331', 'B00005S8KM')\n",
      "Skipping duplicate user/item: ('39430726', 'B00004YUWT')\n",
      "Skipping duplicate user/item: ('41535371', 'B00002F2IZ')\n",
      "Skipping duplicate user/item: ('41535371', 'B00002F2IZ')\n",
      "Skipping duplicate user/item: ('48686420', 'B00004YAHE')\n",
      "Skipping duplicate user/item: ('50707323', 'B00005OQMY')\n",
      "Skipping duplicate user/item: ('46322021', 'B00005K9DX')\n",
      "Skipping duplicate user/item: ('52835176', 'B00002F2IZ')\n",
      "Skipping duplicate user/item: ('47736173', 'B00004YUWT')\n",
      "Skipping duplicate user/item: ('49350719', 'B00002DDSF')\n"
     ]
    }
   ],
   "source": [
    "review_dataset = []\n",
    "\n",
    "pairsSeen = set()\n",
    "\n",
    "for line in f:\n",
    "    fields = line.strip().split('\\t')\n",
    "    d = dict(zip(header, fields))\n",
    "    ui = (d['customer_id'], d['product_id'])\n",
    "    if ui in pairsSeen:\n",
    "        print(\"Skipping duplicate user/item:\", ui)\n",
    "        continue\n",
    "    pairsSeen.add(ui)\n",
    "    d['star_rating'] = int(d['star_rating'])\n",
    "    d['helpful_votes'] = int(d['helpful_votes'])\n",
    "    d['total_votes'] = int(d['total_votes'])\n",
    "    review_dataset.append(d)"
   ]
  },
  {
   "cell_type": "code",
   "execution_count": 23,
   "id": "81c7545f",
   "metadata": {},
   "outputs": [],
   "source": [
    "reviewDataTrain = review_dataset[:int(len(review_dataset)*0.9)]\n",
    "reviewDataTest = review_dataset[int(len(review_dataset)*0.9):]"
   ]
  },
  {
   "cell_type": "code",
   "execution_count": 24,
   "id": "5a9a3277",
   "metadata": {},
   "outputs": [],
   "source": [
    "usersPerItem = defaultdict(set) # Maps an item to the users who rated it\n",
    "itemsPerUser = defaultdict(set) # Maps a user to the items that they rated\n",
    "itemNames = {}\n",
    "ratingDict = {} # To retrieve a rating for a specific user/item pair\n",
    "reviewsPerUser = defaultdict(list)\n",
    "\n",
    "for d in reviewDataTrain:\n",
    "    user,item = d['customer_id'], d['product_id']\n",
    "    usersPerItem[item].add(user)\n",
    "    itemsPerUser[user].add(item)\n",
    "    reviewsPerUser[user].append(d)\n",
    "\n",
    "for d in review_dataset:\n",
    "    user,item = d['customer_id'], d['product_id']\n",
    "    ratingDict[(user,item)] = d['star_rating']\n",
    "    itemNames[item] = d['product_title']"
   ]
  },
  {
   "cell_type": "code",
   "execution_count": null,
   "id": "a269be2e",
   "metadata": {},
   "outputs": [],
   "source": []
  },
  {
   "cell_type": "code",
   "execution_count": 25,
   "id": "8d84efe7",
   "metadata": {},
   "outputs": [],
   "source": [
    "def testQ5():\n",
    "    # Note: your solution is autograded based on the relevance scores, not the items themselves\n",
    "    return homework2.mostSimilar(\"B00KCHRKD6\", 10, usersPerItem)"
   ]
  },
  {
   "cell_type": "code",
   "execution_count": 26,
   "id": "1fafe1cd",
   "metadata": {},
   "outputs": [],
   "source": [
    "testQ5()"
   ]
  },
  {
   "cell_type": "code",
   "execution_count": null,
   "id": "bb70aa82",
   "metadata": {},
   "outputs": [],
   "source": []
  },
  {
   "cell_type": "code",
   "execution_count": 27,
   "id": "19e37f42",
   "metadata": {},
   "outputs": [],
   "source": [
    "ratingMean = homework2.getMeanRating(reviewDataTrain)\n",
    "\n",
    "userAverages = homework2.getUserAverages(itemsPerUser, ratingDict)\n",
    "\n",
    "itemAverages = homework2.getItemAverages(usersPerItem, ratingDict)"
   ]
  },
  {
   "cell_type": "code",
   "execution_count": 28,
   "id": "e61647de",
   "metadata": {},
   "outputs": [],
   "source": [
    "def testQ6():\n",
    "    alwaysPredictMean = [ratingMean for d in reviewDataTest]\n",
    "    \n",
    "    simPredictions = [homework2.predictRating(d['customer_id'],\n",
    "                                              d['product_id'],\n",
    "                                              ratingMean,\n",
    "                                              reviewsPerUser,\n",
    "                                              usersPerItem,\n",
    "                                              itemsPerUser,\n",
    "                                              userAverages,\n",
    "                                              itemAverages) for d in reviewDataTest]\n",
    "\n",
    "    labels = [d['star_rating'] for d in reviewDataTest]\n",
    "    \n",
    "    # Autograder checks the MSE of your predictions and (some of) the simPrediction values"
   ]
  },
  {
   "cell_type": "code",
   "execution_count": 29,
   "id": "509dd29b",
   "metadata": {},
   "outputs": [],
   "source": [
    "testQ6()"
   ]
  },
  {
   "cell_type": "code",
   "execution_count": 30,
   "id": "dd197950",
   "metadata": {},
   "outputs": [],
   "source": [
    "def testQ7():\n",
    "    alwaysPredictMean = [ratingMean for d in reviewDataTest]\n",
    "    \n",
    "    simPredictions = [homework2.predictRating(d['customer_id'],\n",
    "                                              d['product_id'],\n",
    "                                              ratingMean,\n",
    "                                              reviewsPerUser,\n",
    "                                              usersPerItem,\n",
    "                                              itemsPerUser,\n",
    "                                              userAverages,\n",
    "                                              itemAverages) for d in reviewDataTest]\n",
    "    \n",
    "\n",
    "    q7Predictions = [homework2.predictRatingQ7(d['customer_id'],\n",
    "                                               d['product_id'],\n",
    "                                               ratingMean,\n",
    "                                               reviewsPerUser,\n",
    "                                               usersPerItem,\n",
    "                                               itemsPerUser,\n",
    "                                               userAverages,\n",
    "                                               itemAverages) for d in reviewDataTest]\n",
    "    \n",
    "    labels = [d['star_rating'] for d in reviewDataTest]\n",
    "    \n",
    "    m1 = homework2.MSE(simPredictions, labels)\n",
    "    m2 = homework2.MSE(q7Predictions, labels)\n",
    "    m3 = homework2.MSE(alwaysPredictMean, labels)\n",
    "    \n",
    "    # Autograder checks whether your solution is better than either the Q6 or a naive solution\n",
    "    return 1.0 * ((m2 < m1) and (m2 < m3))"
   ]
  },
  {
   "cell_type": "code",
   "execution_count": 31,
   "id": "d0e2a93a",
   "metadata": {},
   "outputs": [
    {
     "data": {
      "text/plain": [
       "1.0"
      ]
     },
     "execution_count": 31,
     "metadata": {},
     "output_type": "execute_result"
    }
   ],
   "source": [
    "testQ7()"
   ]
  }
 ],
 "metadata": {
  "kernelspec": {
   "display_name": "Python 3 (ipykernel)",
   "language": "python",
   "name": "python3"
  },
  "language_info": {
   "codemirror_mode": {
    "name": "ipython",
    "version": 3
   },
   "file_extension": ".py",
   "mimetype": "text/x-python",
   "name": "python",
   "nbconvert_exporter": "python",
   "pygments_lexer": "ipython3",
   "version": "3.12.10"
  }
 },
 "nbformat": 4,
 "nbformat_minor": 5
}
