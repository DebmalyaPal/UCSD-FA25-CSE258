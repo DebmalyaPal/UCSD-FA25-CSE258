{
 "cells": [
  {
   "cell_type": "code",
   "execution_count": 1,
   "id": "4187aa5f",
   "metadata": {},
   "outputs": [],
   "source": [
    "import gzip\n",
    "import json\n",
    "import dateutil.parser\n",
    "import random"
   ]
  },
  {
   "cell_type": "code",
   "execution_count": 2,
   "id": "7d10c03b",
   "metadata": {},
   "outputs": [],
   "source": [
    "import homework1"
   ]
  },
  {
   "cell_type": "code",
   "execution_count": 3,
   "id": "67e983fe",
   "metadata": {},
   "outputs": [],
   "source": [
    "root = \"./datasets/\""
   ]
  },
  {
   "cell_type": "code",
   "execution_count": 4,
   "id": "9506e4ea",
   "metadata": {},
   "outputs": [],
   "source": [
    "f = gzip.open(root + \"/fantasy_10000.json.gz\")\n",
    "dataset = []\n",
    "for l in f:\n",
    "    dataset.append(json.loads(l))"
   ]
  },
  {
   "cell_type": "code",
   "execution_count": 5,
   "id": "fa1c922a",
   "metadata": {},
   "outputs": [
    {
     "data": {
      "text/plain": [
       "{'user_id': '8842281e1d1347389f2ab93d60773d4d',\n",
       " 'book_id': '18245960',\n",
       " 'review_id': 'dfdbb7b0eb5a7e4c26d59a937e2e5feb',\n",
       " 'rating': 5,\n",
       " 'review_text': 'This is a special book. It started slow for about the first third, then in the middle third it started to get interesting, then the last third blew my mind. This is what I love about good science fiction - it pushes your thinking about where things can go. \\n It is a 2015 Hugo winner, and translated from its original Chinese, which made it interesting in just a different way from most things I\\'ve read. For instance the intermixing of Chinese revolutionary history - how they kept accusing people of being \"reactionaries\", etc. \\n It is a book about science, and aliens. The science described in the book is impressive - its a book grounded in physics and pretty accurate as far as I could tell. Though when it got to folding protons into 8 dimensions I think he was just making stuff up - interesting to think about though. \\n But what would happen if our SETI stations received a message - if we found someone was out there - and the person monitoring and answering the signal on our side was disillusioned? That part of the book was a bit dark - I would like to think human reaction to discovering alien civilization that is hostile would be more like Enders Game where we would band together. \\n I did like how the book unveiled the Trisolaran culture through the game. It was a smart way to build empathy with them and also understand what they\\'ve gone through across so many centuries. And who know a 3 body problem was an unsolvable math problem? But I still don\\'t get who made the game - maybe that will come in the next book. \\n I loved this quote: \\n \"In the long history of scientific progress, how many protons have been smashed apart in accelerators by physicists? How many neutrons and electrons? Probably no fewer than a hundred million. Every collision was probably the end of the civilizations and intelligences in a microcosmos. In fact, even in nature, the destruction of universes must be happening at every second--for example, through the decay of neutrons. Also, a high-energy cosmic ray entering the atmosphere may destroy thousands of such miniature universes....\"',\n",
       " 'date_added': 'Sun Jul 30 07:44:10 -0700 2017',\n",
       " 'date_updated': 'Wed Aug 30 00:00:26 -0700 2017',\n",
       " 'read_at': 'Sat Aug 26 12:05:52 -0700 2017',\n",
       " 'started_at': 'Tue Aug 15 13:23:18 -0700 2017',\n",
       " 'n_votes': 28,\n",
       " 'n_comments': 1}"
      ]
     },
     "execution_count": 5,
     "metadata": {},
     "output_type": "execute_result"
    }
   ],
   "source": [
    "dataset[0]"
   ]
  },
  {
   "cell_type": "code",
   "execution_count": 6,
   "id": "1dce3b43",
   "metadata": {},
   "outputs": [],
   "source": [
    "for d in dataset:\n",
    "    t = dateutil.parser.parse(d['date_added'])\n",
    "    d['parsed_date'] = t"
   ]
  },
  {
   "cell_type": "code",
   "execution_count": 7,
   "id": "038717f1",
   "metadata": {},
   "outputs": [
    {
     "data": {
      "text/plain": [
       "{'user_id': '8842281e1d1347389f2ab93d60773d4d',\n",
       " 'book_id': '18245960',\n",
       " 'review_id': 'dfdbb7b0eb5a7e4c26d59a937e2e5feb',\n",
       " 'rating': 5,\n",
       " 'review_text': 'This is a special book. It started slow for about the first third, then in the middle third it started to get interesting, then the last third blew my mind. This is what I love about good science fiction - it pushes your thinking about where things can go. \\n It is a 2015 Hugo winner, and translated from its original Chinese, which made it interesting in just a different way from most things I\\'ve read. For instance the intermixing of Chinese revolutionary history - how they kept accusing people of being \"reactionaries\", etc. \\n It is a book about science, and aliens. The science described in the book is impressive - its a book grounded in physics and pretty accurate as far as I could tell. Though when it got to folding protons into 8 dimensions I think he was just making stuff up - interesting to think about though. \\n But what would happen if our SETI stations received a message - if we found someone was out there - and the person monitoring and answering the signal on our side was disillusioned? That part of the book was a bit dark - I would like to think human reaction to discovering alien civilization that is hostile would be more like Enders Game where we would band together. \\n I did like how the book unveiled the Trisolaran culture through the game. It was a smart way to build empathy with them and also understand what they\\'ve gone through across so many centuries. And who know a 3 body problem was an unsolvable math problem? But I still don\\'t get who made the game - maybe that will come in the next book. \\n I loved this quote: \\n \"In the long history of scientific progress, how many protons have been smashed apart in accelerators by physicists? How many neutrons and electrons? Probably no fewer than a hundred million. Every collision was probably the end of the civilizations and intelligences in a microcosmos. In fact, even in nature, the destruction of universes must be happening at every second--for example, through the decay of neutrons. Also, a high-energy cosmic ray entering the atmosphere may destroy thousands of such miniature universes....\"',\n",
       " 'date_added': 'Sun Jul 30 07:44:10 -0700 2017',\n",
       " 'date_updated': 'Wed Aug 30 00:00:26 -0700 2017',\n",
       " 'read_at': 'Sat Aug 26 12:05:52 -0700 2017',\n",
       " 'started_at': 'Tue Aug 15 13:23:18 -0700 2017',\n",
       " 'n_votes': 28,\n",
       " 'n_comments': 1,\n",
       " 'parsed_date': datetime.datetime(2017, 7, 30, 7, 44, 10, tzinfo=tzoffset(None, -25200))}"
      ]
     },
     "execution_count": 7,
     "metadata": {},
     "output_type": "execute_result"
    }
   ],
   "source": [
    "dataset[0]"
   ]
  },
  {
   "cell_type": "code",
   "execution_count": 8,
   "id": "8de30310",
   "metadata": {},
   "outputs": [],
   "source": [
    "dataset4 = dataset[:]\n",
    "random.seed(0)\n",
    "random.shuffle(dataset4)"
   ]
  },
  {
   "cell_type": "code",
   "execution_count": 9,
   "id": "57b3c56c",
   "metadata": {},
   "outputs": [],
   "source": [
    "f = open(\"./datasets/beer_50000.json\")\n",
    "datasetB = []\n",
    "for l in f:\n",
    "    datasetB.append(eval(l))"
   ]
  },
  {
   "cell_type": "code",
   "execution_count": 10,
   "id": "b81595ca",
   "metadata": {},
   "outputs": [
    {
     "data": {
      "text/plain": [
       "{'review/appearance': 2.5,\n",
       " 'beer/style': 'Hefeweizen',\n",
       " 'review/palate': 1.5,\n",
       " 'review/taste': 1.5,\n",
       " 'beer/name': 'Sausa Weizen',\n",
       " 'review/timeUnix': 1234817823,\n",
       " 'beer/ABV': 5.0,\n",
       " 'beer/beerId': '47986',\n",
       " 'beer/brewerId': '10325',\n",
       " 'review/timeStruct': {'isdst': 0,\n",
       "  'mday': 16,\n",
       "  'hour': 20,\n",
       "  'min': 57,\n",
       "  'sec': 3,\n",
       "  'mon': 2,\n",
       "  'year': 2009,\n",
       "  'yday': 47,\n",
       "  'wday': 0},\n",
       " 'review/overall': 1.5,\n",
       " 'review/text': 'A lot of foam. But a lot.\\tIn the smell some banana, and then lactic and tart. Not a good start.\\tQuite dark orange in color, with a lively carbonation (now visible, under the foam).\\tAgain tending to lactic sourness.\\tSame for the taste. With some yeast and banana.',\n",
       " 'user/profileName': 'stcules',\n",
       " 'review/aroma': 2.0}"
      ]
     },
     "execution_count": 10,
     "metadata": {},
     "output_type": "execute_result"
    }
   ],
   "source": [
    "datasetB[0]"
   ]
  },
  {
   "cell_type": "code",
   "execution_count": 11,
   "id": "ecc5a342",
   "metadata": {},
   "outputs": [],
   "source": [
    "def testQ1():\n",
    "    theta1, MSE1 = homework1.Q1(dataset)\n",
    "    # The autograder will compare these answers to a reference solution\n",
    "    print(theta1)\n",
    "    print(MSE1)"
   ]
  },
  {
   "cell_type": "code",
   "execution_count": 12,
   "id": "a4230136",
   "metadata": {},
   "outputs": [],
   "source": [
    "def testQ2():\n",
    "    X, Y, MSE = homework1.Q2(dataset)\n",
    "    print((X[0],Y[0],MSE))"
   ]
  },
  {
   "cell_type": "code",
   "execution_count": 13,
   "id": "38bea736",
   "metadata": {},
   "outputs": [],
   "source": [
    "def testQ3():\n",
    "    X, Y, MSE = homework1.Q3(dataset)\n",
    "    print((X[0],Y[0],MSE))"
   ]
  },
  {
   "cell_type": "code",
   "execution_count": 14,
   "id": "ae790154",
   "metadata": {},
   "outputs": [],
   "source": [
    "def testQ4():\n",
    "    test_mse2, test_mse3 = homework1.Q4(dataset4)\n",
    "    print((test_mse2, test_mse3))"
   ]
  },
  {
   "cell_type": "code",
   "execution_count": 15,
   "id": "ede95f2b",
   "metadata": {},
   "outputs": [],
   "source": [
    "def testQ5():\n",
    "    TP, TN, FP, FN, BER = homework1.Q5(datasetB, homework1.featureQ5)\n",
    "    print((TP, TN, FP, FN, BER))"
   ]
  },
  {
   "cell_type": "code",
   "execution_count": 16,
   "id": "622bb102",
   "metadata": {},
   "outputs": [],
   "source": [
    "def testQ6():\n",
    "    precs = homework1.Q6(datasetB)\n",
    "    print(precs)"
   ]
  },
  {
   "cell_type": "code",
   "execution_count": 17,
   "id": "633cbbdc",
   "metadata": {},
   "outputs": [],
   "source": [
    "def testQ7():\n",
    "    _, _, _, _, BER5 = homework1.Q5(datasetB, homework1.featureQ5)\n",
    "    _, _, _, _, BER7 = homework1.Q5(datasetB, homework1.featureQ7)\n",
    "    print((BER5,BER7))"
   ]
  },
  {
   "cell_type": "code",
   "execution_count": null,
   "id": "00360d4a",
   "metadata": {},
   "outputs": [],
   "source": []
  },
  {
   "cell_type": "code",
   "execution_count": 18,
   "id": "e56353ab",
   "metadata": {},
   "outputs": [
    {
     "name": "stdout",
     "output_type": "stream",
     "text": [
      "[3.68568136 0.98335392]\n",
      "1.5522086622355378\n"
     ]
    }
   ],
   "source": [
    "testQ1()"
   ]
  },
  {
   "cell_type": "code",
   "execution_count": 19,
   "id": "4252f8c4",
   "metadata": {},
   "outputs": [
    {
     "name": "stdout",
     "output_type": "stream",
     "text": [
      "(array([1.        , 0.14581295, 0.        , 0.        , 0.        ,\n",
      "       0.        , 0.        , 1.        , 0.        , 0.        ,\n",
      "       0.        , 0.        , 0.        , 1.        , 0.        ,\n",
      "       0.        , 0.        , 0.        , 0.        ]), np.int64(5), np.float64(1.5466315498487562))\n"
     ]
    }
   ],
   "source": [
    "testQ2()"
   ]
  },
  {
   "cell_type": "code",
   "execution_count": 20,
   "id": "22f0ca7f",
   "metadata": {},
   "outputs": [
    {
     "name": "stdout",
     "output_type": "stream",
     "text": [
      "(array([1.        , 0.14581295, 6.        , 7.        ]), np.int64(5), np.float64(1.5516353711453328))\n"
     ]
    }
   ],
   "source": [
    "testQ3()"
   ]
  },
  {
   "cell_type": "code",
   "execution_count": 21,
   "id": "f55aa483",
   "metadata": {},
   "outputs": [
    {
     "name": "stdout",
     "output_type": "stream",
     "text": [
      "(np.float64(1.6264015332307493), np.float64(1.628243561509653))\n"
     ]
    }
   ],
   "source": [
    "testQ4()"
   ]
  },
  {
   "cell_type": "code",
   "execution_count": 22,
   "id": "f8a37086",
   "metadata": {},
   "outputs": [
    {
     "name": "stdout",
     "output_type": "stream",
     "text": [
      "(np.int64(14201), np.int64(10503), np.int64(5885), np.int64(19411), np.float64(0.46830315259572763))\n"
     ]
    }
   ],
   "source": [
    "testQ5()"
   ]
  },
  {
   "cell_type": "code",
   "execution_count": 23,
   "id": "13a7b110",
   "metadata": {},
   "outputs": [
    {
     "name": "stdout",
     "output_type": "stream",
     "text": [
      "[1.0, 0.75, 0.71, 0.7147]\n"
     ]
    }
   ],
   "source": [
    "testQ6()"
   ]
  },
  {
   "cell_type": "code",
   "execution_count": 24,
   "id": "a76de3cd",
   "metadata": {},
   "outputs": [
    {
     "name": "stdout",
     "output_type": "stream",
     "text": [
      "(np.float64(0.46830315259572763), np.float64(0.2680191124774382))\n"
     ]
    }
   ],
   "source": [
    "testQ7()"
   ]
  }
 ],
 "metadata": {
  "kernelspec": {
   "display_name": "Python 3 (ipykernel)",
   "language": "python",
   "name": "python3"
  },
  "language_info": {
   "codemirror_mode": {
    "name": "ipython",
    "version": 3
   },
   "file_extension": ".py",
   "mimetype": "text/x-python",
   "name": "python",
   "nbconvert_exporter": "python",
   "pygments_lexer": "ipython3",
   "version": "3.12.10"
  }
 },
 "nbformat": 4,
 "nbformat_minor": 5
}
