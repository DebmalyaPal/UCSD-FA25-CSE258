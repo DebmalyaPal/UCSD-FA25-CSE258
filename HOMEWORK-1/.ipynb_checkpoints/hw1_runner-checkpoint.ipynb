{
 "cells": [
  {
   "cell_type": "code",
   "execution_count": null,
   "id": "4187aa5f",
   "metadata": {},
   "outputs": [],
   "source": [
    "import gzip\n",
    "import json\n",
    "import dateutil.parser\n",
    "import random"
   ]
  },
  {
   "cell_type": "code",
   "execution_count": null,
   "id": "7d10c03b",
   "metadata": {},
   "outputs": [],
   "source": [
    "import homework1"
   ]
  },
  {
   "cell_type": "code",
   "execution_count": null,
   "id": "67e983fe",
   "metadata": {},
   "outputs": [],
   "source": [
    "root = \"/home/julian/Downloads/\""
   ]
  },
  {
   "cell_type": "code",
   "execution_count": null,
   "id": "9506e4ea",
   "metadata": {},
   "outputs": [],
   "source": [
    "f = gzip.open(root + \"/fantasy_10000.json.gz\")\n",
    "dataset = []\n",
    "for l in f:\n",
    "    dataset.append(json.loads(l))"
   ]
  },
  {
   "cell_type": "code",
   "execution_count": null,
   "id": "fa1c922a",
   "metadata": {},
   "outputs": [],
   "source": [
    "dataset[0]"
   ]
  },
  {
   "cell_type": "code",
   "execution_count": null,
   "id": "1dce3b43",
   "metadata": {},
   "outputs": [],
   "source": [
    "for d in dataset:\n",
    "    t = dateutil.parser.parse(d['date_added'])\n",
    "    d['parsed_date'] = t"
   ]
  },
  {
   "cell_type": "code",
   "execution_count": null,
   "id": "038717f1",
   "metadata": {},
   "outputs": [],
   "source": [
    "dataset[0]"
   ]
  },
  {
   "cell_type": "code",
   "execution_count": null,
   "id": "8de30310",
   "metadata": {},
   "outputs": [],
   "source": [
    "dataset4 = dataset[:]\n",
    "random.seed(0)\n",
    "random.shuffle(dataset4)"
   ]
  },
  {
   "cell_type": "code",
   "execution_count": null,
   "id": "57b3c56c",
   "metadata": {},
   "outputs": [],
   "source": [
    "f = open(\"/home/julian/Downloads/beer_50000.json\")\n",
    "datasetB = []\n",
    "for l in f:\n",
    "    datasetB.append(eval(l))"
   ]
  },
  {
   "cell_type": "code",
   "execution_count": null,
   "id": "b81595ca",
   "metadata": {},
   "outputs": [],
   "source": [
    "datasetB[0]"
   ]
  },
  {
   "cell_type": "code",
   "execution_count": null,
   "id": "ecc5a342",
   "metadata": {},
   "outputs": [],
   "source": [
    "def testQ1():\n",
    "    theta1, MSE1 = homework1.Q1(dataset)\n",
    "    # The autograder will compare these answers to a reference solution\n",
    "    print(theta1)\n",
    "    print(MSE1)"
   ]
  },
  {
   "cell_type": "code",
   "execution_count": null,
   "id": "a4230136",
   "metadata": {},
   "outputs": [],
   "source": [
    "def testQ2():\n",
    "    X, Y, MSE = homework1.Q2(dataset)\n",
    "    print((X[0],Y[0],MSE))"
   ]
  },
  {
   "cell_type": "code",
   "execution_count": null,
   "id": "38bea736",
   "metadata": {},
   "outputs": [],
   "source": [
    "def testQ3():\n",
    "    X, Y, MSE = homework1.Q3(dataset)\n",
    "    print((X[0],Y[0],MSE))"
   ]
  },
  {
   "cell_type": "code",
   "execution_count": null,
   "id": "ae790154",
   "metadata": {},
   "outputs": [],
   "source": [
    "def testQ4():\n",
    "    test_mse2, test_mse3 = homework1.Q4(dataset4)\n",
    "    print((test_mse2, test_mse3))"
   ]
  },
  {
   "cell_type": "code",
   "execution_count": null,
   "id": "ede95f2b",
   "metadata": {},
   "outputs": [],
   "source": [
    "def testQ5():\n",
    "    TP, TN, FP, FN, BER = homework1.Q5(datasetB, homework1.featureQ5)\n",
    "    print((TP, TN, FP, FN, BER))"
   ]
  },
  {
   "cell_type": "code",
   "execution_count": null,
   "id": "622bb102",
   "metadata": {},
   "outputs": [],
   "source": [
    "def testQ6():\n",
    "    precs = homework1.Q6(datasetB)\n",
    "    print(precs)"
   ]
  },
  {
   "cell_type": "code",
   "execution_count": null,
   "id": "633cbbdc",
   "metadata": {},
   "outputs": [],
   "source": [
    "def testQ7():\n",
    "    _, _, _, _, BER5 = homework1.Q5(datasetB, homework1.featureQ5)\n",
    "    _, _, _, _, BER7 = homework1.Q5(datasetB, homework1.featureQ7)\n",
    "    print((BER5,BER7))"
   ]
  },
  {
   "cell_type": "code",
   "execution_count": null,
   "id": "00360d4a",
   "metadata": {},
   "outputs": [],
   "source": []
  },
  {
   "cell_type": "code",
   "execution_count": null,
   "id": "e56353ab",
   "metadata": {},
   "outputs": [],
   "source": [
    "testQ1()"
   ]
  },
  {
   "cell_type": "code",
   "execution_count": null,
   "id": "4252f8c4",
   "metadata": {},
   "outputs": [],
   "source": [
    "testQ2()"
   ]
  },
  {
   "cell_type": "code",
   "execution_count": null,
   "id": "22f0ca7f",
   "metadata": {},
   "outputs": [],
   "source": [
    "testQ3()"
   ]
  },
  {
   "cell_type": "code",
   "execution_count": null,
   "id": "f55aa483",
   "metadata": {},
   "outputs": [],
   "source": [
    "testQ4()"
   ]
  },
  {
   "cell_type": "code",
   "execution_count": null,
   "id": "f8a37086",
   "metadata": {},
   "outputs": [],
   "source": [
    "testQ5()"
   ]
  },
  {
   "cell_type": "code",
   "execution_count": null,
   "id": "13a7b110",
   "metadata": {},
   "outputs": [],
   "source": [
    "testQ6()"
   ]
  },
  {
   "cell_type": "code",
   "execution_count": null,
   "id": "a76de3cd",
   "metadata": {},
   "outputs": [],
   "source": [
    "testQ7()"
   ]
  },
  {
   "cell_type": "code",
   "execution_count": null,
   "id": "30c84736",
   "metadata": {},
   "outputs": [],
   "source": []
  }
 ],
 "metadata": {
  "kernelspec": {
   "display_name": "Python 3 (ipykernel)",
   "language": "python",
   "name": "python3"
  },
  "language_info": {
   "codemirror_mode": {
    "name": "ipython",
    "version": 3
   },
   "file_extension": ".py",
   "mimetype": "text/x-python",
   "name": "python",
   "nbconvert_exporter": "python",
   "pygments_lexer": "ipython3",
   "version": "3.11.2"
  }
 },
 "nbformat": 4,
 "nbformat_minor": 5
}
